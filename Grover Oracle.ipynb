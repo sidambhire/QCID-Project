{
 "cells": [
  {
   "cell_type": "code",
   "execution_count": 1,
   "id": "d8779194",
   "metadata": {},
   "outputs": [],
   "source": [
    "#Taken from https://qiskit.org/textbook/ch-algorithms/deutsch-jozsa.html and modified\n",
    "# initialization\n",
    "import numpy as np\n",
    "\n",
    "# importing Qiskit\n",
    "from qiskit import IBMQ, Aer\n",
    "from qiskit.providers.ibmq import least_busy\n",
    "from qiskit import QuantumCircuit, assemble, transpile\n",
    "\n",
    "# import basic plot tools\n",
    "from qiskit.visualization import plot_histogram"
   ]
  },
  {
   "cell_type": "code",
   "execution_count": 2,
   "id": "fa4e847b",
   "metadata": {},
   "outputs": [],
   "source": [
    "def oracle(val, n):\n",
    "    # We need to make a QuantumCircuit object to return\n",
    "    # This circuit has n+1 qubits: the size of the input,\n",
    "    # plus one output qubit\n",
    "    oracle_qc = QuantumCircuit(n+1)\n",
    "    \n",
    "    # Next, format 'val' as a binary string of length 'n', padded with zeros:\n",
    "    b_str = format(val, '0'+str(n)+'b')\n",
    "    # Next, we place the first X-gates. Each digit in our binary string \n",
    "    # corresponds to a qubit, if the digit is 0, we do nothing, if it's 1\n",
    "    # we apply an X-gate to that qubit:\n",
    "    for qubit in range(len(b_str)):\n",
    "        if b_str[qubit] == '1':\n",
    "            oracle_qc.x(qubit)\n",
    "    # Do the controlled-NOT gates for each qubit, using the output qubit \n",
    "    # as the target:\n",
    "    for qubit in range(n):\n",
    "        oracle_qc.cx(qubit, n)\n",
    "    # Next, place the final X-gates\n",
    "    for qubit in range(len(b_str)):\n",
    "        if b_str[qubit] == '1':\n",
    "            oracle_qc.x(qubit)\n",
    "\n",
    "    \n",
    "    oracle_gate = oracle_qc.to_gate()\n",
    "    oracle_gate.name = \"Oracle\" # To show when we display the circuit\n",
    "    return oracle_gate"
   ]
  },
  {
   "cell_type": "code",
   "execution_count": 3,
   "id": "5254a677",
   "metadata": {},
   "outputs": [],
   "source": [
    "#TODO: Implementation is being tested\n",
    "def grover_algorithm(oracle, n):\n",
    "    grover_circuit = QuantumCircuit(n+1, n)\n",
    "    # Set up the output qubit:\n",
    "    grover_circuit.x(n)\n",
    "    grover_circuit.h(n)\n",
    "    # And set up the input register:\n",
    "    for qubit in range(n):\n",
    "        grover_circuit.h(qubit)\n",
    "    # Let's append the oracle gate to our circuit:\n",
    "    for iteration in range(int(np.sqrt(n))):\n",
    "        grover_circuit.append(oracle, range(n+1))\n",
    "    # Finally, perform the H-gates again and measure:\n",
    "    for qubit in range(n):\n",
    "        grover_circuit.h(qubit)\n",
    "    \n",
    "    for i in range(n):\n",
    "        grover_circuit.measure(i, i)\n",
    "    \n",
    "    return grover_circuit"
   ]
  },
  {
   "cell_type": "code",
   "execution_count": 4,
   "id": "fb058967",
   "metadata": {},
   "outputs": [
    {
     "data": {
      "image/png": "[encoded data removed]",
      "text/plain": [
       "<Figure size 748.797x385.28 with 1 Axes>"
      ]
     },
     "execution_count": 4,
     "metadata": {},
     "output_type": "execute_result"
    }
   ],
   "source": [
    "n = 4\n",
    "oracle_gate = oracle(2, n)\n",
    "grover_circuit = grover_algorithm(oracle_gate, n)\n",
    "grover_circuit.draw()"
   ]
  },
  {
   "cell_type": "code",
   "execution_count": 5,
   "id": "e1178345",
   "metadata": {},
   "outputs": [],
   "source": [
    "# use local simulator\n",
    "qasm_sim = Aer.get_backend('qasm_simulator')\n",
    "shots = 1024"
   ]
  },
  {
   "cell_type": "code",
   "execution_count": 6,
   "id": "631f5e7b",
   "metadata": {},
   "outputs": [
    {
     "data": {
      "image/png": "[encoded data removed]",
      "text/plain": [
       "<Figure size 504x360 with 1 Axes>"
      ]
     },
     "execution_count": 6,
     "metadata": {},
     "output_type": "execute_result"
    }
   ],
   "source": [
    "transpiled_grover_circuit = transpile(grover_circuit, qasm_sim)\n",
    "qobj = assemble(transpiled_grover_circuit)\n",
    "results = qasm_sim.run(qobj).result()\n",
    "answer = results.get_counts()\n",
    "plot_histogram(answer)"
   ]
  },
  {
   "cell_type": "code",
   "execution_count": null,
   "id": "4058c002",
   "metadata": {},
   "outputs": [],
   "source": []
  }
 ],
 "metadata": {
  "kernelspec": {
   "display_name": "Python 3",
   "language": "python",
   "name": "python3"
  },
  "language_info": {
   "codemirror_mode": {
    "name": "ipython",
    "version": 3
   },
   "file_extension": ".py",
   "mimetype": "text/x-python",
   "name": "python",
   "nbconvert_exporter": "python",
   "pygments_lexer": "ipython3",
   "version": "3.9.3"
  }
 },
 "nbformat": 4,
 "nbformat_minor": 5
}
