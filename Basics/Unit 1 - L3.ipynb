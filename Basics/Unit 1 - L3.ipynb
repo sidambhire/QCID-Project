{
 "cells": [
  {
   "cell_type": "code",
   "execution_count": 1,
   "id": "ea965138",
   "metadata": {},
   "outputs": [],
   "source": [
    "from qiskit import QuantumCircuit, assemble, Aer\n",
    "from qiskit.visualization import plot_histogram, plot_bloch_vector\n",
    "from math import sqrt, pi"
   ]
  },
  {
   "cell_type": "code",
   "execution_count": 2,
   "id": "92d139ed",
   "metadata": {},
   "outputs": [
    {
     "data": {
      "image/png": "[encoded data removed]",
      "text/plain": [
       "<Figure size 133.526x84.28 with 1 Axes>"
      ]
     },
     "execution_count": 2,
     "metadata": {},
     "output_type": "execute_result"
    }
   ],
   "source": [
    "qc = QuantumCircuit(1)  # Create a quantum circuit with one qubit\n",
    "initial_state = [0,1]   # Define initial_state as |1>\n",
    "qc.initialize(initial_state, 0) # Apply initialisation operation to the 0th qubit\n",
    "qc.draw()  # Let's view our circuit"
   ]
  },
  {
   "cell_type": "code",
   "execution_count": 3,
   "id": "f60083f4",
   "metadata": {},
   "outputs": [],
   "source": [
    "svsim = Aer.get_backend('statevector_simulator') # Tell Qiskit how to simulate our circuit"
   ]
  },
  {
   "cell_type": "code",
   "execution_count": 4,
   "id": "87a28d8f",
   "metadata": {},
   "outputs": [],
   "source": [
    "qc = QuantumCircuit(1)  # Create a quantum circuit with one qubit\n",
    "initial_state = [0,1]   # Define initial_state as |1>\n",
    "qc.initialize(initial_state, 0) # Apply initialisation operation to the 0th qubit\n",
    "qobj = assemble(qc)     # Create a Qobj from the circuit for the simulator to run\n",
    "result = svsim.run(qobj).result() # Do the simulation and return the result"
   ]
  },
  {
   "cell_type": "code",
   "execution_count": 5,
   "id": "3a60a516",
   "metadata": {},
   "outputs": [
    {
     "name": "stdout",
     "output_type": "stream",
     "text": [
      "[0.+0.j 1.+0.j]\n"
     ]
    }
   ],
   "source": [
    "out_state = result.get_statevector()\n",
    "print(out_state) # Display the output state vector"
   ]
  },
  {
   "cell_type": "code",
   "execution_count": 6,
   "id": "e426ab90",
   "metadata": {},
   "outputs": [
    {
     "data": {
      "image/png": "[encoded data removed]",
      "text/plain": [
       "<Figure size 297.479x144.48 with 1 Axes>"
      ]
     },
     "execution_count": 6,
     "metadata": {},
     "output_type": "execute_result"
    }
   ],
   "source": [
    "qc.measure_all()\n",
    "qc.draw()"
   ]
  },
  {
   "cell_type": "code",
   "execution_count": 7,
   "id": "e0b78d8f",
   "metadata": {},
   "outputs": [],
   "source": [
    "initial_state = [1/sqrt(2), 1j/sqrt(2)]  # Define state |q_0>"
   ]
  },
  {
   "cell_type": "code",
   "execution_count": 8,
   "id": "992bfcb1",
   "metadata": {},
   "outputs": [
    {
     "name": "stdout",
     "output_type": "stream",
     "text": [
      "[0.70710678+0.j         0.        +0.70710678j]\n"
     ]
    }
   ],
   "source": [
    "qc = QuantumCircuit(1) # Must redefine qc\n",
    "qc.initialize(initial_state, 0) # Initialise the 0th qubit in the state `initial_state`\n",
    "qobj = assemble(qc)\n",
    "state = svsim.run(qobj).result().get_statevector() # Execute the circuit\n",
    "print(state)           # Print the result"
   ]
  },
  {
   "cell_type": "code",
   "execution_count": 9,
   "id": "ae6776bd",
   "metadata": {},
   "outputs": [
    {
     "data": {
      "image/png": "[encoded data removed]",
      "text/plain": [
       "<Figure size 504x360 with 1 Axes>"
      ]
     },
     "execution_count": 9,
     "metadata": {},
     "output_type": "execute_result"
    }
   ],
   "source": [
    "qobj = assemble(qc)\n",
    "results = svsim.run(qobj).result().get_counts()\n",
    "plot_histogram(results)"
   ]
  },
  {
   "cell_type": "code",
   "execution_count": 10,
   "id": "c91f4aff",
   "metadata": {},
   "outputs": [
    {
     "data": {
      "image/png": "[encoded data removed]",
      "text/plain": [
       "<Figure size 357.679x144.48 with 1 Axes>"
      ]
     },
     "execution_count": 10,
     "metadata": {},
     "output_type": "execute_result"
    }
   ],
   "source": [
    "qc.measure_all()\n",
    "qc.draw()"
   ]
  },
  {
   "cell_type": "code",
   "execution_count": 12,
   "id": "f6abd3ea",
   "metadata": {},
   "outputs": [
    {
     "data": {
      "image/png": "[encoded data removed]",
      "text/plain": [
       "<Figure size 193.726x84.28 with 1 Axes>"
      ]
     },
     "execution_count": 12,
     "metadata": {},
     "output_type": "execute_result"
    }
   ],
   "source": [
    "qc = QuantumCircuit(1) # We are redefining qc\n",
    "initial_state = [0.+1.j/sqrt(2),1/sqrt(2)+0.j]\n",
    "qc.initialize(initial_state, 0)\n",
    "qc.draw()"
   ]
  },
  {
   "cell_type": "code",
   "execution_count": 13,
   "id": "a4f945a6",
   "metadata": {},
   "outputs": [
    {
     "name": "stdout",
     "output_type": "stream",
     "text": [
      "Qubit State = [0.        +0.70710678j 0.70710678+0.j        ]\n"
     ]
    }
   ],
   "source": [
    "qobj = assemble(qc)\n",
    "state = svsim.run(qobj).result().get_statevector()\n",
    "print(\"Qubit State = \" + str(state))"
   ]
  },
  {
   "cell_type": "code",
   "execution_count": 15,
   "id": "7a72bcc8",
   "metadata": {},
   "outputs": [
    {
     "data": {
      "image/png": "[encoded data removed]",
      "text/plain": [
       "<Figure size 357.679x144.48 with 1 Axes>"
      ]
     },
     "execution_count": 15,
     "metadata": {},
     "output_type": "execute_result"
    }
   ],
   "source": [
    "qc.measure_all()\n",
    "qc.draw()"
   ]
  },
  {
   "cell_type": "code",
   "execution_count": 16,
   "id": "644ccf8f",
   "metadata": {},
   "outputs": [
    {
     "name": "stdout",
     "output_type": "stream",
     "text": [
      "State of Measured Qubit = [0.+1.j 0.+0.j]\n"
     ]
    }
   ],
   "source": [
    "qobj = assemble(qc)\n",
    "state = svsim.run(qobj).result().get_statevector()\n",
    "print(\"State of Measured Qubit = \" + str(state))"
   ]
  },
  {
   "cell_type": "code",
   "execution_count": null,
   "id": "eb9f049d",
   "metadata": {},
   "outputs": [],
   "source": []
  }
 ],
 "metadata": {
  "kernelspec": {
   "display_name": "Python 3",
   "language": "python",
   "name": "python3"
  },
  "language_info": {
   "codemirror_mode": {
    "name": "ipython",
    "version": 3
   },
   "file_extension": ".py",
   "mimetype": "text/x-python",
   "name": "python",
   "nbconvert_exporter": "python",
   "pygments_lexer": "ipython3",
   "version": "3.9.3"
  }
 },
 "nbformat": 4,
 "nbformat_minor": 5
}
